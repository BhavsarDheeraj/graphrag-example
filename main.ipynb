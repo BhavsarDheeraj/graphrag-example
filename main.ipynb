{
 "cells": [
  {
   "cell_type": "markdown",
   "metadata": {},
   "source": [
    "# Loading ENV Variables"
   ]
  },
  {
   "cell_type": "code",
   "execution_count": null,
   "metadata": {},
   "outputs": [],
   "source": [
    "from dotenv import load_dotenv\n",
    "load_dotenv()"
   ]
  },
  {
   "cell_type": "markdown",
   "metadata": {},
   "source": [
    "# Parsing using llama parse for better parsing"
   ]
  },
  {
   "cell_type": "code",
   "execution_count": 2,
   "metadata": {},
   "outputs": [],
   "source": [
    "from llama_parse import LlamaParse\n",
    "\n",
    "\n",
    "parser = LlamaParse(\n",
    "    result_type=\"markdown\"  # \"markdown\" and \"text\" are available\n",
    ")"
   ]
  },
  {
   "cell_type": "code",
   "execution_count": null,
   "metadata": {},
   "outputs": [],
   "source": [
    "documents = await parser.aload_data(\"chapter 2.pdf\")"
   ]
  },
  {
   "cell_type": "markdown",
   "metadata": {},
   "source": [
    "## Put all the documents inside a txt file\n",
    "### Graphrag only supports txt file"
   ]
  },
  {
   "cell_type": "code",
   "execution_count": null,
   "metadata": {},
   "outputs": [],
   "source": [
    "txt_path = 'ragtest/input/book.txt'\n",
    "\n",
    "with open(txt_path, 'w', encoding='utf-8') as txt_file:\n",
    "  for doc in documents:\n",
    "    text = doc.text\n",
    "    txt_file.write(text)\n",
    "    txt_file.write(\"\\n\\n\")\n",
    "print(f\"PDF has been converted to TXT and saved as {txt_path}\")"
   ]
  },
  {
   "cell_type": "markdown",
   "metadata": {},
   "source": [
    "# Graphrag"
   ]
  },
  {
   "cell_type": "code",
   "execution_count": 9,
   "metadata": {},
   "outputs": [],
   "source": [
    "import subprocess"
   ]
  },
  {
   "cell_type": "markdown",
   "metadata": {},
   "source": [
    "## Initialization"
   ]
  },
  {
   "cell_type": "code",
   "execution_count": 10,
   "metadata": {},
   "outputs": [],
   "source": [
    "init_command = [\n",
    "    \"python\", \"-m\", \"graphrag.index\", \"--init\", \"--root\", \"./ragtest\"\n",
    "]"
   ]
  },
  {
   "cell_type": "code",
   "execution_count": 11,
   "metadata": {},
   "outputs": [],
   "source": [
    "result_init = subprocess.run(init_command, capture_output=True, text=True)"
   ]
  },
  {
   "cell_type": "markdown",
   "metadata": {},
   "source": [
    "- Propmpts are generated under `./ragtest/prompts`\n",
    "- You can modify these propmpts if needed\n",
    "\n",
    "- You can also change the settings like model, embedding model, entity types to extract, etc under `./ragtest/settings.yaml` file"
   ]
  },
  {
   "cell_type": "markdown",
   "metadata": {},
   "source": [
    "## Indexing\n",
    " - Might take some time - took around 1.5 minutes on my machine"
   ]
  },
  {
   "cell_type": "code",
   "execution_count": 16,
   "metadata": {},
   "outputs": [],
   "source": [
    "index_command = [\n",
    "    \"python\", \"-m\", \"graphrag.index\", \"--root\", \"./ragtest\"\n",
    "]"
   ]
  },
  {
   "cell_type": "code",
   "execution_count": null,
   "metadata": {},
   "outputs": [],
   "source": [
    "result_index = subprocess.run(index_command, capture_output=True, text=True)\n",
    "print(\"Indexing Output:\", result_index.stdout)\n",
    "print(\"Indexing Error:\", result_index.stderr)"
   ]
  },
  {
   "cell_type": "markdown",
   "metadata": {},
   "source": [
    "# Play Here\n",
    "\n",
    "## Querying"
   ]
  },
  {
   "cell_type": "code",
   "execution_count": 34,
   "metadata": {},
   "outputs": [],
   "source": [
    "query = \"Give me list of all the concepts\""
   ]
  },
  {
   "cell_type": "code",
   "execution_count": 35,
   "metadata": {},
   "outputs": [],
   "source": [
    "query_command = [\n",
    "    \"python\", \"-m\", \"graphrag.query\", \"--root\", \"./ragtest\",\n",
    "    \"--method\", \"global\", query\n",
    "]"
   ]
  },
  {
   "cell_type": "code",
   "execution_count": 36,
   "metadata": {},
   "outputs": [
    {
     "name": "stdout",
     "output_type": "stream",
     "text": [
      "Query Output: \n",
      "\n",
      "INFO: Reading settings from ragtest/settings.yaml\n",
      "creating llm client with {'api_key': 'REDACTED,len=51', 'type': \"openai_chat\", 'model': 'gpt-4o', 'max_tokens': 4000, 'temperature': 0.0, 'top_p': 1.0, 'n': 1, 'request_timeout': 180.0, 'api_base': None, 'api_version': None, 'organization': None, 'proxy': None, 'cognitive_services_endpoint': None, 'deployment_name': None, 'model_supports_json': True, 'tokens_per_minute': 0, 'requests_per_minute': 0, 'max_retries': 10, 'max_retry_wait': 10.0, 'sleep_on_rate_limit_recommendation': True, 'concurrent_requests': 25}\n",
      "\n",
      "SUCCESS: Global Search Response: ### Key Concepts in the Indian Independence Movement\n",
      "\n",
      "#### Satyagraha\n",
      "Satyagraha is a philosophy and practice of nonviolent resistance developed by Mahatma Gandhi. It relies on the principles of non-violence and truth [Data: Reports (14)].\n",
      "\n",
      "#### Non-Cooperation Movement\n",
      "The Non-Cooperation Movement was a significant phase of the Indian national movement led by Mahatma Gandhi. It advocated for non-violent resistance and mass non-cooperation with British rule [Data: Reports (15, 5, 8)].\n",
      "\n",
      "#### Civil Disobedience Movement\n",
      "The Civil Disobedience Movement was a major campaign of nonviolent resistance against British rule, organized and supported by the Indian National Congress under Mahatma Gandhi's leadership [Data: Reports (13, 11, 10)].\n",
      "\n",
      "#### Quit India Movement\n",
      "The Quit India Movement was a mass protest launched by Mahatma Gandhi in 1942 to demand an end to British rule in India [Data: Reports (12)].\n",
      "\n",
      "#### Khilafat Movement\n",
      "The Khilafat Movement aimed at protecting the Ottoman Caliphate and involved various social groups in the struggle against colonial rule [Data: Reports (5, 8, 1)].\n",
      "\n",
      "#### Rowlatt Act\n",
      "The Rowlatt Act was a repressive law passed by the British government in 1919, leading to widespread protests and the Gandhian hartal [Data: Reports (4)].\n",
      "\n",
      "#### Jallianwala Bagh Massacre\n",
      "The Jallianwala Bagh Massacre occurred in April 1919 when British troops fired on unarmed Indian protesters, fueling the Non-Cooperation Movement [Data: Reports (4)].\n",
      "\n",
      "#### Boycott\n",
      "Boycott was a key strategy proposed by Gandhi during the Non-Cooperation Movement, involving the refusal to deal with British goods and institutions [Data: Reports (15, 5)].\n",
      "\n",
      "#### Picketing\n",
      "Picketing was a form of protest used during the Non-Cooperation Movement, involving blocking entrances to shops, factories, and offices to prevent business [Data: Reports (5)].\n",
      "\n",
      "#### Swaraj\n",
      "Swaraj, meaning self-rule or self-governance, was a central concept driving the Non-Cooperation-Khilafat Movement [Data: Reports (5)].\n",
      "\n",
      "#### Second Round Table Conference\n",
      "The Second Round Table Conference in December 1931 was a crucial event where Indian leaders and British officials discussed constitutional reforms [Data: Reports (3, 10)].\n",
      "\n",
      "#### Poona Pact\n",
      "The Poona Pact was an agreement in September 1932 between Gandhiji and Ambedkar, providing reserved seats for the Depressed Classes in legislative councils [Data: Reports (3)].\n",
      "\n",
      "#### Gandhi-Irwin Pact\n",
      "The Gandhi-Irwin Pact was a landmark agreement between Mahatma Gandhi and Lord Irwin, leading to the release of political prisoners and Gandhi's participation in the Round Table Conference [Data: Reports (13)].\n",
      "\n",
      "#### Simon Commission\n",
      "The Simon Commission was a group of British Members of Parliament sent to India in 1928 to study constitutional reform, met with widespread protests [Data: Reports (15, 7)].\n",
      "\n",
      "#### Salt March\n",
      "The Salt March was a non-violent protest led by Mahatma Gandhi in 1930 against the British salt monopoly, marking a pivotal moment in the Indian independence movement [Data: Reports (11, 10)].\n",
      "\n",
      "#### Gandhian Hartal\n",
      "The Gandhian Hartal was a nationwide strike organized by Mahatma Gandhi in 1919 as part of the non-violent civil disobedience against the Rowlatt Act [Data: Reports (4)].\n",
      "\n",
      "#### Swaraj Flag\n",
      "The Swaraj Flag, designed by Gandhiji, symbolized self-help and defiance during the Indian national movement [Data: Reports (3)].\n",
      "\n",
      "#### Hind Swaraj\n",
      "Hind Swaraj is a book written by Mahatma Gandhi in 1909, laying the ideological foundation for the Non-Cooperation Movement [Data: Reports (15)].\n",
      "\n",
      "These concepts collectively illustrate the multifaceted approach of the Indian independence movement, emphasizing non-violence, self-governance, and mass participation.\n",
      "\n",
      "Query Error: \n"
     ]
    }
   ],
   "source": [
    "result_query = subprocess.run(query_command, capture_output=True, text=True)\n",
    "print(\"Query Output:\", result_query.stdout)\n",
    "print(\"Query Error:\", result_query.stderr)"
   ]
  }
 ],
 "metadata": {
  "kernelspec": {
   "display_name": "venv",
   "language": "python",
   "name": "python3"
  },
  "language_info": {
   "codemirror_mode": {
    "name": "ipython",
    "version": 3
   },
   "file_extension": ".py",
   "mimetype": "text/x-python",
   "name": "python",
   "nbconvert_exporter": "python",
   "pygments_lexer": "ipython3",
   "version": "3.12.3"
  }
 },
 "nbformat": 4,
 "nbformat_minor": 2
}
